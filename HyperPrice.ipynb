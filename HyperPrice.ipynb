# --- Import libraries ---
import pandas as pd
import matplotlib.pyplot as plt
import seaborn as sns
from sklearn.model_selection import train_test_split
from sklearn.ensemble import RandomForestRegressor
from sklearn.linear_model import LinearRegression
from sklearn.metrics import mean_absolute_error, mean_squared_error, r2_score

import plotly.express as px
import ipywidgets as widgets
from ipywidgets import HBox, VBox, interactive_output
from IPython.display import display, clear_output


# --- Load dataset ---
file_name = 'generated_data (1).csv'  # Ensure file is uploaded in Colab
try:
    df = pd.read_csv(file_name)
    df['Timestamp'] = pd.to_datetime(df['Timestamp'], format='%d-%m-%Y %H:%M')
except FileNotFoundError:
    print("Please make sure 'generated_data (1).csv' is uploaded to your Colab environment.")
    df = pd.DataFrame({
        'FuelPrice': [106.5], 'DemandIndex': [50], 'TrafficIndex': [0.5],
        'Distance_km': [5], 'Price': [100], 'Zone': ['North'], 'TimeBlock': ['Morning'],
        'Profit': [10]
    })


# --- Dataset Exploration ---
print("First 5 rows of the dataset:")
print(df.head())

print("\nDataset Information:")
df.info()

print("\nSummary Statistics:")
print(df.describe())


# --- Visualization 1: Pairplot ---
sns.pairplot(df, x_vars=['FuelPrice', 'DemandIndex', 'TrafficIndex', 'Distance_km'], y_vars=['Price'])
plt.suptitle('Pairplot of Price vs. Key Factors', y=1.02)
plt.savefig('pairplot.png')
plt.clf()

# --- Visualization 2: Correlation Heatmap ---
plt.figure(figsize=(12, 8))
correlation_matrix = df[['DemandIndex', 'FuelPrice', 'TrafficIndex', 'Distance_km', 'Price', 'Cost', 'Profit']].corr()
sns.heatmap(correlation_matrix, annot=True, cmap='coolwarm', fmt=".2f")
plt.title('Correlation Heatmap')
plt.savefig('correlation_heatmap.png')
plt.clf()


# --- Random Forest Model (Predicting PredictedPrice) ---
features_rf = ['Distance_km', 'TrafficIndex', 'DemandIndex', 'FuelPrice']
target_rf = 'PredictedPrice'

X_rf = df[features_rf]
y_rf = df[target_rf]

X_train_rf, X_test_rf, y_train_rf, y_test_rf = train_test_split(X_rf, y_rf, test_size=0.2, random_state=42)

rf_model = RandomForestRegressor(n_estimators=100, random_state=42)
rf_model.fit(X_train_rf, y_train_rf)

y_pred_rf = rf_model.predict(X_test_rf)

# --- Evaluation RF ---
mae = mean_absolute_error(y_test_rf, y_pred_rf)
r2 = r2_score(y_test_rf, y_pred_rf)

print("\nRandom Forest Model Evaluation:")
print(f"Mean Absolute Error (MAE): {mae:.2f}")
print(f"R-squared (R²): {r2:.2f}")

# --- Business Metric: Profit Calculation ---
test_df = df.loc[y_test_rf.index].copy()
test_df['Model_PredictedPrice'] = y_pred_rf
test_df['Model_PredictedProfit'] = test_df['Model_PredictedPrice'] - test_df['Cost']

average_profit = test_df['Model_PredictedProfit'].mean()
print("\nBusiness Evaluation:")
print(f"Average Profit from the model's predictions: Rs {average_profit:.2f}")

# --- Visualization 3: Predicted vs Actual ---
plt.figure(figsize=(10, 6))
sns.scatterplot(x=y_test_rf, y=y_pred_rf, alpha=0.7)
plt.plot([y_rf.min(), y_rf.max()], [y_rf.min(), y_rf.max()], 'r--', lw=2)
plt.title('Predicted Price vs. Actual Price (Random Forest)', fontsize=16)
plt.xlabel('Actual Price', fontsize=12)
plt.ylabel('Predicted Price', fontsize=12)
plt.grid(True)
plt.tight_layout()
plt.savefig('predicted_vs_actual_price_rf.png')
plt.show()

# --- Visualization 4: Profit vs Demand ---
plt.figure(figsize=(10, 6))
sns.scatterplot(x=test_df['DemandIndex'], y=test_df['Model_PredictedProfit'])
plt.title('Predicted Profit vs. Demand Index', fontsize=16)
plt.xlabel('Demand Index', fontsize=12)
plt.ylabel('Predicted Profit', fontsize=12)
plt.grid(True)
plt.tight_layout()
plt.savefig('profit_vs_demand_rf.png')
plt.show()

# Correlation heatmap (also in output)
plt.figure(figsize=(12, 8))
correlation_matrix = df[['DemandIndex', 'FuelPrice', 'TrafficIndex', 'Distance_km', 'Price', 'Cost', 'Profit']].corr()
sns.heatmap(correlation_matrix, annot=True, cmap='coolwarm', fmt=".2f")
plt.title('Correlation Heatmap')
plt.show()


# --- Linear Regression Model (Predicting Price) ---
features_lr = ['FuelPrice', 'DemandIndex', 'TrafficIndex', 'Distance_km']
target_lr = 'Price'

X_lr = df[features_lr]
y_lr = df[target_lr]

X_train_lr, X_test_lr, y_train_lr, y_test_lr = train_test_split(X_lr, y_lr, test_size=0.2, random_state=42)

lr_model = LinearRegression()
lr_model.fit(X_train_lr, y_train_lr)

y_pred_lr = lr_model.predict(X_test_lr)

# --- Evaluation LR ---
mse = mean_squared_error(y_test_lr, y_pred_lr)
r2_lr = r2_score(y_test_lr, y_pred_lr)

print("\nLinear Regression Model Evaluation:")
print(f"Mean Squared Error (MSE): {mse:.2f}")
print(f"R-squared (R²): {r2_lr:.2f}")

# --- Coefficients ---
print("\nLinear Regression Coefficients:")
for feature, coef in zip(features_lr, lr_model.coef_):
    print(f"{feature}: {coef}")
print(f"Intercept: {lr_model.intercept_}")

# --- Example Predictions ---
new_data = pd.DataFrame({
    'FuelPrice': [107.0],
    'DemandIndex': [60],
    'TrafficIndex': [0.8],
    'Distance_km': [10]
})

predicted_price_lr = lr_model.predict(new_data)[0]
predicted_price_rf = rf_model.predict(new_data[features_rf])[0]

print(f"\nExample Prediction (Linear Regression): {predicted_price_lr:.2f}")
print(f"Example Prediction (Random Forest): {predicted_price_rf:.2f}")


# --- Interactive Dashboard Section ---
# Train model for dashboard (using Linear Regression on Price)
features_dash = ['FuelPrice', 'DemandIndex', 'TrafficIndex', 'Distance_km']
target_dash = 'Price'
X_dash = df[features_dash]
y_dash = df[target_dash]

dashboard_model = LinearRegression()
dashboard_model.fit(X_dash, y_dash)

# Sliders for model prediction
style = {'description_width': 'initial'}
fuel_slider = widgets.FloatSlider(value=106.6, min=106.0, max=107.0, step=0.01, description='Fuel Price:', style=style, continuous_update=False)
demand_slider = widgets.IntSlider(value=65, min=40, max=90, step=1, description='Demand Index:', style=style, continuous_update=False)
traffic_slider = widgets.FloatSlider(value=0.75, min=0.5, max=1.0, step=0.01, description='Traffic Index:', style=style, continuous_update=False)
distance_slider = widgets.FloatSlider(value=9.0, min=3.0, max=15.0, step=0.1, description='Distance (km):', style=style, continuous_update=False)

# Dropdowns for filtering visualizations
zone_dropdown = widgets.Dropdown(options=['All'] + sorted(df['Zone'].unique().tolist()), value='All', description='Filter by Zone:', style=style)
timeblock_dropdown = widgets.Dropdown(options=['All'] + sorted(df['TimeBlock'].unique().tolist()), value='All', description='Filter by Time Block:', style=style)

# Dashboard update function
def update_dashboard(fuel, demand, traffic, distance, zone, timeblock):
    clear_output(wait=True)
    new_data = pd.DataFrame({
        'FuelPrice': [fuel],
        'DemandIndex': [demand],
        'TrafficIndex': [traffic],
        'Distance_km': [distance]
    })
    predicted_price = dashboard_model.predict(new_data)[0]

    prediction_box = widgets.HTML(
        value=f"""
        <div style="border: 2px solid #4CAF50; padding: 15px; border-radius: 10px; background-color: #f2f2f2; text-align: center;">
            <h2 style="color: #333;">Predicted Price:</h2>
            <p style="font-size: 28px; font-weight: bold; color: #4CAF50; margin: 0;">₹{predicted_price:.2f}</p>
        </div>
        """
    )
    display(prediction_box)

    filtered_df = df.copy()
    if zone != 'All':
        filtered_df = filtered_df[filtered_df['Zone'] == zone]
    if timeblock != 'All':
        filtered_df = filtered_df[filtered_df['TimeBlock'] == timeblock]

    if not filtered_df.empty:
        fig1 = px.scatter(filtered_df, x='Distance_km', y='Price',
                          title=f'Price vs. Distance in {zone} Zone ({timeblock})',
                          labels={'Distance_km': 'Distance (km)', 'Price': 'Price (₹)'},
                          template='plotly_white',
                          trendline="ols", trendline_color_override="red")
        fig1.show()

        fig2 = px.histogram(filtered_df, x='Profit',
                            title=f'Profit Distribution in {zone} Zone ({timeblock})',
                            labels={'Profit': 'Profit (₹)', 'count': 'Number of Orders'},
                            template='plotly_white',
                            color_discrete_sequence=['#ff9900'])
        fig2.show()
    else:
        print("\nNo data available for the selected filters.")


# Link widgets
out = widgets.interactive_output(update_dashboard, {
    'fuel': fuel_slider,
    'demand': demand_slider,
    'traffic': traffic_slider,
    'distance': distance_slider,
    'zone': zone_dropdown,
    'timeblock': timeblock_dropdown
})

controls = VBox([
    HBox([fuel_slider, demand_slider]),
    HBox([traffic_slider, distance_slider]),
    HBox([zone_dropdown, timeblock_dropdown])
])

display(VBox([controls, out]))

print("\nAll visualizations and interactive dashboard generated successfully.")
